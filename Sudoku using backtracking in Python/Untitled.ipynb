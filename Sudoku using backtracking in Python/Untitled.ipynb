{
 "cells": [
  {
   "cell_type": "code",
   "execution_count": 7,
   "metadata": {},
   "outputs": [
    {
     "name": "stdout",
     "output_type": "stream",
     "text": [
      "hello\n",
      "7 8 0  | 4 0 0  | 1 2 0\n",
      "6 0 0  | 0 7 5  | 0 0 9\n",
      "0 0 0  | 6 0 1  | 0 7 8\n",
      "- - - - - - - - - - - - - \n",
      "0 0 7  | 0 4 0  | 2 6 0\n",
      "0 0 1  | 0 5 0  | 9 3 0\n",
      "9 0 4  | 0 6 0  | 0 0 5\n",
      "- - - - - - - - - - - - - \n",
      "0 7 0  | 3 0 0  | 0 1 2\n",
      "1 2 0  | 0 0 7  | 4 0 0\n",
      "0 4 9  | 2 0 6  | 0 0 7\n"
     ]
    }
   ],
   "source": [
    "import numpy as np\n",
    "\n",
    "print('hello')\n",
    "board = [\n",
    "    [7,8,0,4,0,0,1,2,0],\n",
    "    [6,0,0,0,7,5,0,0,9],\n",
    "    [0,0,0,6,0,1,0,7,8],\n",
    "    [0,0,7,0,4,0,2,6,0],\n",
    "    [0,0,1,0,5,0,9,3,0],\n",
    "    [9,0,4,0,6,0,0,0,5],\n",
    "    [0,7,0,3,0,0,0,1,2],\n",
    "    [1,2,0,0,0,7,4,0,0],\n",
    "    [0,4,9,2,0,6,0,0,7]\n",
    "]\n",
    "\n",
    "def print_board(bo):\n",
    "    for i in range(len(bo)):\n",
    "        if i % 3 == 0 and i != 0:\n",
    "            print(\"- - - - - - - - - - - - - \")\n",
    "\n",
    "        for j in range(len(bo[0])):\n",
    "            if j % 3 == 0 and j != 0:\n",
    "                print(\" | \", end=\"\")\n",
    "\n",
    "            if j == 8:\n",
    "                print(bo[i][j])\n",
    "            else:\n",
    "                print(str(bo[i][j]) + \" \", end=\"\")\n",
    "\n",
    "\n",
    "def find_empty(bo):\n",
    "    for i in range(len(bo)):\n",
    "        for j in range(len(bo[0])):\n",
    "            if bo[i][j] == 0:\n",
    "                return (i, j)  # row, col\n",
    "\n",
    "    return None\n",
    "\n",
    "print_board(board)"
   ]
  }
 ],
 "metadata": {
  "kernelspec": {
   "display_name": "Python 3",
   "language": "python",
   "name": "python3"
  },
  "language_info": {
   "codemirror_mode": {
    "name": "ipython",
    "version": 3
   },
   "file_extension": ".py",
   "mimetype": "text/x-python",
   "name": "python",
   "nbconvert_exporter": "python",
   "pygments_lexer": "ipython3",
   "version": "3.7.4"
  }
 },
 "nbformat": 4,
 "nbformat_minor": 2
}
